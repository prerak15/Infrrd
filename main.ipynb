{
 "cells": [
  {
   "cell_type": "markdown",
   "id": "7726e1bf-10a1-4c60-a86c-715e307040b8",
   "metadata": {},
   "source": [
    "# Infrrd\n"
   ]
  },
  {
   "cell_type": "code",
   "execution_count": null,
   "id": "b8cc3e70-3e1c-4247-b349-01e0d707d901",
   "metadata": {},
   "outputs": [],
   "source": []
  }
 ],
 "metadata": {
  "kernelspec": {
   "display_name": "Python 3 (ipykernel)",
   "language": "python",
   "name": "python3"
  },
  "language_info": {
   "codemirror_mode": {
    "name": "ipython",
    "version": 3
   },
   "file_extension": ".py",
   "mimetype": "text/x-python",
   "name": "python",
   "nbconvert_exporter": "python",
   "pygments_lexer": "ipython3",
   "version": "3.8.5"
  }
 },
 "nbformat": 4,
 "nbformat_minor": 5
}
