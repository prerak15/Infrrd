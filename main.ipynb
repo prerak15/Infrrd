{
 "cells": [
  {
   "cell_type": "markdown",
   "id": "7726e1bf-10a1-4c60-a86c-715e307040b8",
   "metadata": {},
   "source": [
    "# Infrrd\n"
   ]
  },
  {
   "cell_type": "code",
   "execution_count": 3,
   "id": "b8cc3e70-3e1c-4247-b349-01e0d707d901",
   "metadata": {},
   "outputs": [],
   "source": [
    "import pandas as pd\n",
    "import os\n",
    "from glob import glob\n",
    "import cv2"
   ]
  },
  {
   "cell_type": "code",
   "execution_count": 17,
   "id": "87a44949-0fcb-43c4-8e74-7f3f558e9497",
   "metadata": {},
   "outputs": [],
   "source": [
    "def load_file(df, file, ind):\n",
    "    df_temp = pd.read_csv(file, header = 0, names = ['start_index', 'end_index', 'x_top_left', 'y_top_left', 'x_bottom_right', 'y_bottom_right', 'transcript', 'field'])\n",
    "    df_temp['file'] = ind\n",
    "    df = pd.concat([df, df_temp], ignore_index = True)\n",
    "    return df\n",
    "\t"
   ]
  },
  {
   "cell_type": "code",
   "execution_count": 18,
   "id": "e055915b-956c-460d-a629-1694f73d73ff",
   "metadata": {},
   "outputs": [
    {
     "name": "stdout",
     "output_type": "stream",
     "text": [
      "length of all docs:  600\n",
      "Shape of created Dataframe:  (237016, 9)\n"
     ]
    }
   ],
   "source": [
    "def create_df():\n",
    "    path = os.getcwd()\n",
    "    path = path + \"\\\\dataset\\\\dataset\\\\train\\\\boxes_transcripts_labels\\\\\"\n",
    "    all_docs = glob(path + \"*.tsv\") # getting all images\n",
    "    print(\"length of all docs: \", len(all_docs))\n",
    "    df = pd.read_csv(all_docs[0], header = 0, names = ['start_index', 'end_index', 'x_top_left', 'y_top_left', 'x_bottom_right', 'y_bottom_right', 'transcript', 'field'])\n",
    "    ind = 0\n",
    "    df[\"file\"] = ind\n",
    "    for file in all_docs[1:]:\n",
    "        ind += 1\n",
    "        df = load_file(df, file, ind)\n",
    "    return df\n",
    "df = create_df()\n",
    "df.reset_index(inplace=True, drop=True) \n",
    "print(\"Shape of created Dataframe: \", df.shape)"
   ]
  },
  {
   "cell_type": "code",
   "execution_count": 19,
   "id": "288a7451-fc42-47e1-9ec1-407c91a4e785",
   "metadata": {},
   "outputs": [
    {
     "name": "stdout",
     "output_type": "stream",
     "text": [
      "   start_index  end_index  x_top_left  y_top_left  x_bottom_right   \n",
      "0           35         44         235           3             308  \\\n",
      "1           46         51         311           3             349   \n",
      "2           53         60         352           3             401   \n",
      "3           62         67         404           3             457   \n",
      "4          106        110         783           1             819   \n",
      "\n",
      "   y_bottom_right  transcript  field  file  \n",
      "0              21  Employee's  OTHER     0  \n",
      "1              20      social  OTHER     0  \n",
      "2              20    security  OTHER     0  \n",
      "3              21      number  OTHER     0  \n",
      "4              20       Safe,  OTHER     0  \n"
     ]
    }
   ],
   "source": [
    "print(df.head())\n"
   ]
  },
  {
   "cell_type": "code",
   "execution_count": 20,
   "id": "eaacf53d-72f8-47bf-8084-2f4488195144",
   "metadata": {},
   "outputs": [
    {
     "name": "stdout",
     "output_type": "stream",
     "text": [
      "        start_index  end_index  x_top_left  y_top_left  x_bottom_right   \n",
      "0                35         44         235           3             308  \\\n",
      "1                46         51         311           3             349   \n",
      "2                53         60         352           3             401   \n",
      "3                62         67         404           3             457   \n",
      "4               106        110         783           1             819   \n",
      "...             ...        ...         ...         ...             ...   \n",
      "237011         2325       2327         365        1064             385   \n",
      "237012         2329       2334         388        1064             429   \n",
      "237013         2336       2338         451        1063             482   \n",
      "237014         2340       2342         485        1063             509   \n",
      "237015         2344       2352         511        1063             572   \n",
      "\n",
      "        y_bottom_right  transcript  field  file  \n",
      "0                   21  Employee's  OTHER     0  \n",
      "1                   20      social  OTHER     0  \n",
      "2                   20    security  OTHER     0  \n",
      "3                   21      number  OTHER     0  \n",
      "4                   20       Safe,  OTHER     0  \n",
      "...                ...         ...    ...   ...  \n",
      "237011            1079         Tax  OTHER   599  \n",
      "237012            1079      Return  OTHER   599  \n",
      "237013            1078         OMB  OTHER   599  \n",
      "237014            1078         No.  OTHER   599  \n",
      "237015            1078   1545-0008  OTHER   599  \n",
      "\n",
      "[237016 rows x 9 columns]\n"
     ]
    }
   ],
   "source": [
    "print(df)"
   ]
  },
  {
   "cell_type": "code",
   "execution_count": null,
   "id": "ceef1dd2-88c4-474e-bcc4-cf7bb4fd977a",
   "metadata": {},
   "outputs": [],
   "source": []
  }
 ],
 "metadata": {
  "kernelspec": {
   "display_name": "Python 3 (ipykernel)",
   "language": "python",
   "name": "python3"
  },
  "language_info": {
   "codemirror_mode": {
    "name": "ipython",
    "version": 3
   },
   "file_extension": ".py",
   "mimetype": "text/x-python",
   "name": "python",
   "nbconvert_exporter": "python",
   "pygments_lexer": "ipython3",
   "version": "3.8.5"
  }
 },
 "nbformat": 4,
 "nbformat_minor": 5
}
